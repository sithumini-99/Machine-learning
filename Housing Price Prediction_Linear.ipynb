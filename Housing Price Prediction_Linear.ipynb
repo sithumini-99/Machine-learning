{
 "cells": [
  {
   "cell_type": "code",
   "execution_count": 1,
   "id": "a7c06176",
   "metadata": {},
   "outputs": [],
   "source": [
    "import pandas as pd\n",
    "import numpy as np\n",
    "from sklearn.model_selection import train_test_split #class to validations\n",
    "from sklearn.linear_model import LinearRegression\n",
    "from sklearn.metrics import mean_squared_error#to measure the accuracy\n"
   ]
  },
  {
   "cell_type": "markdown",
   "id": "827d1e70",
   "metadata": {},
   "source": [
    "#Import the data set"
   ]
  },
  {
   "cell_type": "code",
   "execution_count": 2,
   "id": "076c08dc",
   "metadata": {},
   "outputs": [],
   "source": [
    "data=pd.read_csv(\"E:\\\\Data scienec Master class\\\\notes\\\\machine learning\\\\datasets\\\\archive (34)\\\\HousingData.csv\")"
   ]
  },
  {
   "cell_type": "code",
   "execution_count": 3,
   "id": "5640fe39",
   "metadata": {},
   "outputs": [
    {
     "data": {
      "text/html": [
       "<div>\n",
       "<style scoped>\n",
       "    .dataframe tbody tr th:only-of-type {\n",
       "        vertical-align: middle;\n",
       "    }\n",
       "\n",
       "    .dataframe tbody tr th {\n",
       "        vertical-align: top;\n",
       "    }\n",
       "\n",
       "    .dataframe thead th {\n",
       "        text-align: right;\n",
       "    }\n",
       "</style>\n",
       "<table border=\"1\" class=\"dataframe\">\n",
       "  <thead>\n",
       "    <tr style=\"text-align: right;\">\n",
       "      <th></th>\n",
       "      <th>CRIM</th>\n",
       "      <th>ZN</th>\n",
       "      <th>INDUS</th>\n",
       "      <th>CHAS</th>\n",
       "      <th>NOX</th>\n",
       "      <th>RM</th>\n",
       "      <th>AGE</th>\n",
       "      <th>DIS</th>\n",
       "      <th>RAD</th>\n",
       "      <th>TAX</th>\n",
       "      <th>PTRATIO</th>\n",
       "      <th>B</th>\n",
       "      <th>LSTAT</th>\n",
       "      <th>MEDV</th>\n",
       "    </tr>\n",
       "  </thead>\n",
       "  <tbody>\n",
       "    <tr>\n",
       "      <th>0</th>\n",
       "      <td>0.00632</td>\n",
       "      <td>18.0</td>\n",
       "      <td>2.31</td>\n",
       "      <td>0</td>\n",
       "      <td>0.538</td>\n",
       "      <td>6.575</td>\n",
       "      <td>65.2</td>\n",
       "      <td>4.0900</td>\n",
       "      <td>1</td>\n",
       "      <td>296</td>\n",
       "      <td>15.3</td>\n",
       "      <td>396.90</td>\n",
       "      <td>4.98</td>\n",
       "      <td>24.0</td>\n",
       "    </tr>\n",
       "    <tr>\n",
       "      <th>1</th>\n",
       "      <td>0.02731</td>\n",
       "      <td>0.0</td>\n",
       "      <td>7.07</td>\n",
       "      <td>0</td>\n",
       "      <td>0.469</td>\n",
       "      <td>6.421</td>\n",
       "      <td>78.9</td>\n",
       "      <td>4.9671</td>\n",
       "      <td>2</td>\n",
       "      <td>242</td>\n",
       "      <td>17.8</td>\n",
       "      <td>396.90</td>\n",
       "      <td>9.14</td>\n",
       "      <td>21.6</td>\n",
       "    </tr>\n",
       "    <tr>\n",
       "      <th>2</th>\n",
       "      <td>0.02729</td>\n",
       "      <td>0.0</td>\n",
       "      <td>7.07</td>\n",
       "      <td>0</td>\n",
       "      <td>0.469</td>\n",
       "      <td>7.185</td>\n",
       "      <td>61.1</td>\n",
       "      <td>4.9671</td>\n",
       "      <td>2</td>\n",
       "      <td>242</td>\n",
       "      <td>17.8</td>\n",
       "      <td>392.83</td>\n",
       "      <td>4.03</td>\n",
       "      <td>34.7</td>\n",
       "    </tr>\n",
       "    <tr>\n",
       "      <th>3</th>\n",
       "      <td>0.03237</td>\n",
       "      <td>0.0</td>\n",
       "      <td>2.18</td>\n",
       "      <td>0</td>\n",
       "      <td>0.458</td>\n",
       "      <td>6.998</td>\n",
       "      <td>45.8</td>\n",
       "      <td>6.0622</td>\n",
       "      <td>3</td>\n",
       "      <td>222</td>\n",
       "      <td>18.7</td>\n",
       "      <td>394.63</td>\n",
       "      <td>2.94</td>\n",
       "      <td>33.4</td>\n",
       "    </tr>\n",
       "    <tr>\n",
       "      <th>4</th>\n",
       "      <td>0.06905</td>\n",
       "      <td>0.0</td>\n",
       "      <td>2.18</td>\n",
       "      <td>0</td>\n",
       "      <td>0.458</td>\n",
       "      <td>7.147</td>\n",
       "      <td>54.2</td>\n",
       "      <td>6.0622</td>\n",
       "      <td>3</td>\n",
       "      <td>222</td>\n",
       "      <td>18.7</td>\n",
       "      <td>396.90</td>\n",
       "      <td>11.43</td>\n",
       "      <td>36.2</td>\n",
       "    </tr>\n",
       "  </tbody>\n",
       "</table>\n",
       "</div>"
      ],
      "text/plain": [
       "      CRIM    ZN  INDUS  CHAS    NOX     RM   AGE     DIS  RAD  TAX  PTRATIO  \\\n",
       "0  0.00632  18.0   2.31     0  0.538  6.575  65.2  4.0900    1  296     15.3   \n",
       "1  0.02731   0.0   7.07     0  0.469  6.421  78.9  4.9671    2  242     17.8   \n",
       "2  0.02729   0.0   7.07     0  0.469  7.185  61.1  4.9671    2  242     17.8   \n",
       "3  0.03237   0.0   2.18     0  0.458  6.998  45.8  6.0622    3  222     18.7   \n",
       "4  0.06905   0.0   2.18     0  0.458  7.147  54.2  6.0622    3  222     18.7   \n",
       "\n",
       "        B  LSTAT  MEDV  \n",
       "0  396.90   4.98  24.0  \n",
       "1  396.90   9.14  21.6  \n",
       "2  392.83   4.03  34.7  \n",
       "3  394.63   2.94  33.4  \n",
       "4  396.90  11.43  36.2  "
      ]
     },
     "execution_count": 3,
     "metadata": {},
     "output_type": "execute_result"
    }
   ],
   "source": [
    "data.head()"
   ]
  },
  {
   "cell_type": "code",
   "execution_count": 5,
   "id": "5b93891c",
   "metadata": {},
   "outputs": [
    {
     "data": {
      "text/plain": [
       "array([24. , 21.6, 34.7, 33.4, 36.2, 28.7, 22.9, 27.1, 16.5, 18.9, 15. ,\n",
       "       18.9, 21.7, 20.4, 18.2, 19.9, 23.1, 17.5, 20.2, 18.2, 13.6, 19.6,\n",
       "       15.2, 14.5, 15.6, 13.9, 16.6, 14.8, 18.4, 21. , 12.7, 14.5, 13.2,\n",
       "       13.1, 13.5, 18.9, 20. , 21. , 24.7, 30.8, 34.9, 26.6, 25.3, 24.7,\n",
       "       21.2, 19.3, 20. , 16.6, 14.4, 19.4, 19.7, 20.5, 25. , 23.4, 18.9,\n",
       "       35.4, 24.7, 31.6, 23.3, 19.6, 18.7, 16. , 22.2, 25. , 33. , 23.5,\n",
       "       19.4, 22. , 17.4, 20.9, 24.2, 21.7, 22.8, 23.4, 24.1, 21.4, 20. ,\n",
       "       20.8, 21.2, 20.3, 28. , 23.9, 24.8, 22.9, 23.9, 26.6, 22.5, 22.2,\n",
       "       23.6, 28.7, 22.6, 22. , 22.9, 25. , 20.6, 28.4, 21.4, 38.7, 43.8,\n",
       "       33.2, 27.5, 26.5, 18.6, 19.3, 20.1, 19.5, 19.5, 20.4, 19.8, 19.4,\n",
       "       21.7, 22.8, 18.8, 18.7, 18.5, 18.3, 21.2, 19.2, 20.4, 19.3, 22. ,\n",
       "       20.3, 20.5, 17.3, 18.8, 21.4, 15.7, 16.2, 18. , 14.3, 19.2, 19.6,\n",
       "       23. , 18.4, 15.6, 18.1, 17.4, 17.1, 13.3, 17.8, 14. , 14.4, 13.4,\n",
       "       15.6, 11.8, 13.8, 15.6, 14.6, 17.8, 15.4, 21.5, 19.6, 15.3, 19.4,\n",
       "       17. , 15.6, 13.1, 41.3, 24.3, 23.3, 27. , 50. , 50. , 50. , 22.7,\n",
       "       25. , 50. , 23.8, 23.8, 22.3, 17.4, 19.1, 23.1, 23.6, 22.6, 29.4,\n",
       "       23.2, 24.6, 29.9, 37.2, 39.8, 36.2, 37.9, 32.5, 26.4, 29.6, 50. ,\n",
       "       32. , 29.8, 34.9, 37. , 30.5, 36.4, 31.1, 29.1, 50. , 33.3, 30.3,\n",
       "       34.6, 34.9, 32.9, 24.1, 42.3, 48.5, 50. , 22.6, 24.4, 22.5, 24.4,\n",
       "       20. , 21.7, 19.3, 22.4, 28.1, 23.7, 25. , 23.3, 28.7, 21.5, 23. ,\n",
       "       26.7, 21.7, 27.5, 30.1, 44.8, 50. , 37.6, 31.6, 46.7, 31.5, 24.3,\n",
       "       31.7, 41.7, 48.3, 29. , 24. , 25.1, 31.5, 23.7, 23.3, 22. , 20.1,\n",
       "       22.2, 23.7, 17.6, 18.5, 24.3, 20.5, 24.5, 26.2, 24.4, 24.8, 29.6,\n",
       "       42.8, 21.9, 20.9, 44. , 50. , 36. , 30.1, 33.8, 43.1, 48.8, 31. ,\n",
       "       36.5, 22.8, 30.7, 50. , 43.5, 20.7, 21.1, 25.2, 24.4, 35.2, 32.4,\n",
       "       32. , 33.2, 33.1, 29.1, 35.1, 45.4, 35.4, 46. , 50. , 32.2, 22. ,\n",
       "       20.1, 23.2, 22.3, 24.8, 28.5, 37.3, 27.9, 23.9, 21.7, 28.6, 27.1,\n",
       "       20.3, 22.5, 29. , 24.8, 22. , 26.4, 33.1, 36.1, 28.4, 33.4, 28.2,\n",
       "       22.8, 20.3, 16.1, 22.1, 19.4, 21.6, 23.8, 16.2, 17.8, 19.8, 23.1,\n",
       "       21. , 23.8, 23.1, 20.4, 18.5, 25. , 24.6, 23. , 22.2, 19.3, 22.6,\n",
       "       19.8, 17.1, 19.4, 22.2, 20.7, 21.1, 19.5, 18.5, 20.6, 19. , 18.7,\n",
       "       32.7, 16.5, 23.9, 31.2, 17.5, 17.2, 23.1, 24.5, 26.6, 22.9, 24.1,\n",
       "       18.6, 30.1, 18.2, 20.6, 17.8, 21.7, 22.7, 22.6, 25. , 19.9, 20.8,\n",
       "       16.8, 21.9, 27.5, 21.9, 23.1, 50. , 50. , 50. , 50. , 50. , 13.8,\n",
       "       13.8, 15. , 13.9, 13.3, 13.1, 10.2, 10.4, 10.9, 11.3, 12.3,  8.8,\n",
       "        7.2, 10.5,  7.4, 10.2, 11.5, 15.1, 23.2,  9.7, 13.8, 12.7, 13.1,\n",
       "       12.5,  8.5,  5. ,  6.3,  5.6,  7.2, 12.1,  8.3,  8.5,  5. , 11.9,\n",
       "       27.9, 17.2, 27.5, 15. , 17.2, 17.9, 16.3,  7. ,  7.2,  7.5, 10.4,\n",
       "        8.8,  8.4, 16.7, 14.2, 20.8, 13.4, 11.7,  8.3, 10.2, 10.9, 11. ,\n",
       "        9.5, 14.5, 14.1, 16.1, 14.3, 11.7, 13.4,  9.6,  8.7,  8.4, 12.8,\n",
       "       10.5, 17.1, 18.4, 15.4, 10.8, 11.8, 14.9, 12.6, 14.1, 13. , 13.4,\n",
       "       15.2, 16.1, 17.8, 14.9, 14.1, 12.7, 13.5, 14.9, 20. , 16.4, 17.7,\n",
       "       19.5, 20.2, 21.4, 19.9, 19. , 19.1, 19.1, 20.1, 19.9, 19.6, 23.2,\n",
       "       29.8, 13.8, 13.3, 16.7, 12. , 14.6, 21.4, 23. , 23.7, 25. , 21.8,\n",
       "       20.6, 21.2, 19.1, 20.6, 15.2,  7. ,  8.1, 13.6, 20.1, 21.8, 24.5,\n",
       "       23.1, 19.7, 18.3, 21.2, 17.5, 16.8, 22.4, 20.6, 23.9, 22. , 11.9])"
      ]
     },
     "execution_count": 5,
     "metadata": {},
     "output_type": "execute_result"
    }
   ],
   "source": [
    "#split varibles into x and y\n",
    "x=data.iloc[:,:13].values\n",
    "y=data.iloc[:,13].values\n",
    "#value command covert into arrays\n",
    "y"
   ]
  },
  {
   "cell_type": "code",
   "execution_count": 22,
   "id": "10413013",
   "metadata": {},
   "outputs": [
    {
     "data": {
      "text/plain": [
       "[array([[3.58090000e-01, 0.00000000e+00, 6.20000000e+00, ...,\n",
       "         3.07000000e+02, 1.74000000e+01, 3.91700000e+02],\n",
       "        [1.58760000e-01, 0.00000000e+00, 1.08100000e+01, ...,\n",
       "         3.05000000e+02, 1.92000000e+01, 3.76940000e+02],\n",
       "        [1.13290000e-01, 3.00000000e+01, 4.93000000e+00, ...,\n",
       "         3.00000000e+02, 1.66000000e+01, 3.91250000e+02],\n",
       "        ...,\n",
       "        [1.50980000e-01, 0.00000000e+00, 1.00100000e+01, ...,\n",
       "         4.32000000e+02, 1.78000000e+01, 3.94510000e+02],\n",
       "        [2.29270000e-01, 0.00000000e+00, 1.10839918e+01, ...,\n",
       "         2.33000000e+02, 1.79000000e+01, 3.92740000e+02],\n",
       "        [1.39140000e-01, 0.00000000e+00, 4.05000000e+00, ...,\n",
       "         2.96000000e+02, 1.66000000e+01, 3.96900000e+02]]),\n",
       " array([[6.72400000e-02, 0.00000000e+00, 3.24000000e+00, ...,\n",
       "         4.30000000e+02, 1.69000000e+01, 3.75210000e+02],\n",
       "        [9.23230000e+00, 0.00000000e+00, 1.81000000e+01, ...,\n",
       "         6.66000000e+02, 2.02000000e+01, 3.66150000e+02],\n",
       "        [1.14250000e-01, 0.00000000e+00, 1.10839918e+01, ...,\n",
       "         2.76000000e+02, 1.64000000e+01, 3.93740000e+02],\n",
       "        ...,\n",
       "        [1.49320000e-01, 2.50000000e+01, 5.13000000e+00, ...,\n",
       "         2.84000000e+02, 1.97000000e+01, 3.95110000e+02],\n",
       "        [1.40520000e-01, 0.00000000e+00, 1.05900000e+01, ...,\n",
       "         2.77000000e+02, 1.86000000e+01, 3.85810000e+02],\n",
       "        [1.28020000e-01, 0.00000000e+00, 8.56000000e+00, ...,\n",
       "         3.84000000e+02, 2.09000000e+01, 3.95240000e+02]]),\n",
       " array([ 9.71,  9.88, 11.38, 12.43, 26.64, 14.  ,  9.08,  8.67,  4.59,\n",
       "        26.4 , 19.15, 15.37, 29.93, 14.66, 34.02, 11.12, 25.68,  3.16,\n",
       "         4.69, 11.43, 16.2 , 12.92,  9.97, 17.58,  6.47, 18.46,  9.22,\n",
       "         6.05, 17.12, 25.79, 18.07, 14.43, 22.74,  4.81, 10.88, 26.82,\n",
       "         6.56, 29.05, 23.69, 13.59,  5.04,  5.28,  6.78, 14.81,  4.45,\n",
       "        11.43, 21.52, 30.81,  4.54,  5.21, 34.41,  7.73, 16.96,  4.97,\n",
       "        17.93, 18.72, 13.09, 21.02, 26.45, 10.26,  4.59,  5.25,  8.05,\n",
       "        12.79,  7.7 ,  7.22,  7.79, 16.35,  4.38, 24.91, 14.65,  5.5 ,\n",
       "        13.34, 21.78, 15.1 , 21.14, 11.43,  9.43, 16.23, 14.52,  9.8 ,\n",
       "        11.64, 18.66,  5.08,  9.5 ,  5.99,  4.45, 16.22, 23.98, 11.25,\n",
       "         5.7 , 11.5 ,  3.16,  6.21,  9.5 , 14.13,  5.98,  3.01,  8.16,\n",
       "        11.69,  7.26,  6.62, 27.8 ,  6.43, 14.1 ,  5.9 , 10.58, 12.14,\n",
       "         6.53,  9.54, 18.05, 10.24, 11.72, 24.08, 24.16,  7.67, 15.17,\n",
       "         4.03, 20.08, 21.46, 14.67, 16.65,  9.25, 13.27, 22.6 , 10.45,\n",
       "         6.36, 13.44, 19.01,  7.9 , 10.11,  3.53, 11.43, 11.1 , 11.43,\n",
       "        14.37,  8.1 , 16.21,  5.29,  6.36, 10.29, 16.9 ,  5.1 ,  5.49,\n",
       "         9.45, 27.26,  7.85, 20.34, 34.37, 21.24, 17.16,  2.47, 15.03,\n",
       "        18.35,  7.01,  9.55, 14.44,  4.56, 11.43,  9.51, 17.92, 11.43,\n",
       "        11.43, 23.79, 11.98,  7.12, 10.53, 16.94,  9.69, 17.28, 21.32,\n",
       "         6.27, 16.14,  9.74, 23.6 , 21.32, 16.03, 12.33,  8.05, 11.43,\n",
       "         5.57,  9.47, 22.88,  5.39, 29.55,  2.88,  8.05,  6.9 ,  8.1 ,\n",
       "        16.3 , 13.51,  7.6 , 18.34, 10.16,  3.7 , 14.1 , 29.97,  1.98,\n",
       "         3.53, 14.19, 11.43, 18.33, 10.36,  8.26,  7.14, 36.98, 14.33,\n",
       "        11.43,  1.73,  7.51,  5.64, 13.11, 13.  , 21.45, 12.12,  6.58,\n",
       "         7.18, 15.55, 23.34, 18.46,  4.73,  9.59, 10.19, 15.94, 11.43,\n",
       "        22.98,  9.52,  7.83, 17.11, 11.28,  9.97,  7.39, 13.65, 11.43,\n",
       "        15.17,  2.94,  4.5 , 14.81,  3.76, 12.93, 10.27, 13.98, 17.21,\n",
       "        10.42,  2.98, 10.4 , 16.59,  4.82, 16.74,  5.29,  7.53,  7.79,\n",
       "        13.27, 13.44, 12.86, 14.79, 11.41, 14.98,  6.86,  4.84, 13.  ,\n",
       "        13.45, 23.09, 20.31, 20.32, 15.7 , 25.41,  9.93,  6.73, 21.08,\n",
       "        12.6 ,  6.68, 19.88,  7.44, 16.44,  4.98,  7.43,  3.26, 12.03,\n",
       "         3.57, 11.43,  6.93, 12.01,  6.92,  3.73,  3.11, 10.59, 12.87,\n",
       "         6.65, 18.13, 11.32,  8.79,  8.93, 30.81,  5.49, 34.77, 19.92,\n",
       "        11.43,  4.85,  6.36, 28.32, 26.42,  6.75,  7.56, 17.6 , 12.26,\n",
       "        18.71,  6.48,  5.91,  6.12,  3.81,  9.62, 14.27, 18.06, 11.43,\n",
       "        17.15, 16.42, 30.63,  8.2 ,  6.72,  7.44, 13.61, 11.48,  3.56,\n",
       "         3.95, 24.39,  6.87,  5.12, 11.43, 17.27,  5.81, 16.47, 30.62,\n",
       "        16.29,  6.58, 17.44, 10.13, 20.85,  8.43, 15.02, 18.85, 15.39,\n",
       "         3.33, 12.8 ,  5.68,  2.96,  3.32, 13.28, 12.5 ,  3.11, 13.04,\n",
       "        27.71, 17.19, 13.15, 18.68, 19.31,  7.6 , 23.29, 30.59, 13.99,\n",
       "        29.53,  8.23, 29.68,  6.29,  6.19,  8.51, 18.13, 19.69,  8.01,\n",
       "         8.61,  5.19, 13.22, 15.76, 27.38, 10.45,  5.52,  5.68, 16.51,\n",
       "         9.81, 10.56, 23.97,  9.64, 13.35,  4.32,  5.03,  9.28, 19.37,\n",
       "         5.5 , 14.36,  6.72, 11.43,  4.7 , 11.22, 11.43, 23.98, 17.1 ,\n",
       "        12.67,  2.97,  3.59, 11.74,  2.87, 10.3 , 18.8 , 14.69]),\n",
       " array([ 7.34,  9.53, 10.5 , 19.77, 12.34,  8.47, 11.45,  9.29, 12.64,\n",
       "        10.63, 20.62, 21.22, 17.79, 28.28,  1.92,  4.74, 10.74,  4.08,\n",
       "         5.33,  8.77,  7.2 , 12.03, 14.09,  7.19, 10.21, 13.33, 13.83,\n",
       "        15.79,  4.21, 17.09, 18.03, 14.7 , 10.15, 12.4 ,  9.04, 14.64,\n",
       "        26.77,  8.88, 17.64, 24.1 ,  8.58, 14.15,  9.09, 18.14,  8.65,\n",
       "         9.14, 15.84, 15.12, 29.29,  9.42, 15.02, 17.6 , 11.65,  3.54,\n",
       "        17.31, 15.71, 12.43, 12.67, 10.11, 17.27,  7.79, 12.73,  4.86,\n",
       "         3.76, 14.76,  4.56, 17.73, 20.45, 19.78, 10.87, 11.97,  8.94,\n",
       "         4.67,  4.61,  7.74, 31.99,  3.95, 10.97,  8.81, 14.1 ,  7.37,\n",
       "        14.59, 11.43,  4.14,  4.63,  6.15, 11.34, 15.69,  7.39, 18.76,\n",
       "        14.8 , 23.27,  6.57,  6.07,  7.88,  9.16, 37.97,  5.77, 18.13,\n",
       "        13.15,  9.38, 12.27])]"
      ]
     },
     "execution_count": 22,
     "metadata": {},
     "output_type": "execute_result"
    }
   ],
   "source": [
    "#training and testing divide from x and y\n",
    "#this commnd make above x and y as 2*x and 2*y  then 4 arrays are given\n",
    "train_test_split(x,y,test_size=0.2,random_state=0)\n",
    "#random_state is like setseed command\n"
   ]
  },
  {
   "cell_type": "code",
   "execution_count": 23,
   "id": "a9e08389",
   "metadata": {},
   "outputs": [],
   "source": [
    "#to acessing each value in array we difine a arraay like below.Then we can call sepreatly each of them\n",
    "x_train,x_test,y_train,y_test=train_test_split(x,y,test_size=0.2,random_state=0)\n"
   ]
  },
  {
   "cell_type": "code",
   "execution_count": 24,
   "id": "375b4690",
   "metadata": {},
   "outputs": [
    {
     "data": {
      "text/plain": [
       "array([[3.58090000e-01, 0.00000000e+00, 6.20000000e+00, ...,\n",
       "        3.07000000e+02, 1.74000000e+01, 3.91700000e+02],\n",
       "       [1.58760000e-01, 0.00000000e+00, 1.08100000e+01, ...,\n",
       "        3.05000000e+02, 1.92000000e+01, 3.76940000e+02],\n",
       "       [1.13290000e-01, 3.00000000e+01, 4.93000000e+00, ...,\n",
       "        3.00000000e+02, 1.66000000e+01, 3.91250000e+02],\n",
       "       ...,\n",
       "       [1.50980000e-01, 0.00000000e+00, 1.00100000e+01, ...,\n",
       "        4.32000000e+02, 1.78000000e+01, 3.94510000e+02],\n",
       "       [2.29270000e-01, 0.00000000e+00, 1.10839918e+01, ...,\n",
       "        2.33000000e+02, 1.79000000e+01, 3.92740000e+02],\n",
       "       [1.39140000e-01, 0.00000000e+00, 4.05000000e+00, ...,\n",
       "        2.96000000e+02, 1.66000000e+01, 3.96900000e+02]])"
      ]
     },
     "execution_count": 24,
     "metadata": {},
     "output_type": "execute_result"
    }
   ],
   "source": [
    "x_train\n"
   ]
  },
  {
   "cell_type": "code",
   "execution_count": 25,
   "id": "168ef6e3",
   "metadata": {},
   "outputs": [],
   "source": [
    "#create a objective using LinearRegression\n",
    "model=LinearRegression()\n"
   ]
  },
  {
   "cell_type": "code",
   "execution_count": 26,
   "id": "255a787b",
   "metadata": {},
   "outputs": [
    {
     "data": {
      "text/html": [
       "<style>#sk-container-id-1 {color: black;background-color: white;}#sk-container-id-1 pre{padding: 0;}#sk-container-id-1 div.sk-toggleable {background-color: white;}#sk-container-id-1 label.sk-toggleable__label {cursor: pointer;display: block;width: 100%;margin-bottom: 0;padding: 0.3em;box-sizing: border-box;text-align: center;}#sk-container-id-1 label.sk-toggleable__label-arrow:before {content: \"▸\";float: left;margin-right: 0.25em;color: #696969;}#sk-container-id-1 label.sk-toggleable__label-arrow:hover:before {color: black;}#sk-container-id-1 div.sk-estimator:hover label.sk-toggleable__label-arrow:before {color: black;}#sk-container-id-1 div.sk-toggleable__content {max-height: 0;max-width: 0;overflow: hidden;text-align: left;background-color: #f0f8ff;}#sk-container-id-1 div.sk-toggleable__content pre {margin: 0.2em;color: black;border-radius: 0.25em;background-color: #f0f8ff;}#sk-container-id-1 input.sk-toggleable__control:checked~div.sk-toggleable__content {max-height: 200px;max-width: 100%;overflow: auto;}#sk-container-id-1 input.sk-toggleable__control:checked~label.sk-toggleable__label-arrow:before {content: \"▾\";}#sk-container-id-1 div.sk-estimator input.sk-toggleable__control:checked~label.sk-toggleable__label {background-color: #d4ebff;}#sk-container-id-1 div.sk-label input.sk-toggleable__control:checked~label.sk-toggleable__label {background-color: #d4ebff;}#sk-container-id-1 input.sk-hidden--visually {border: 0;clip: rect(1px 1px 1px 1px);clip: rect(1px, 1px, 1px, 1px);height: 1px;margin: -1px;overflow: hidden;padding: 0;position: absolute;width: 1px;}#sk-container-id-1 div.sk-estimator {font-family: monospace;background-color: #f0f8ff;border: 1px dotted black;border-radius: 0.25em;box-sizing: border-box;margin-bottom: 0.5em;}#sk-container-id-1 div.sk-estimator:hover {background-color: #d4ebff;}#sk-container-id-1 div.sk-parallel-item::after {content: \"\";width: 100%;border-bottom: 1px solid gray;flex-grow: 1;}#sk-container-id-1 div.sk-label:hover label.sk-toggleable__label {background-color: #d4ebff;}#sk-container-id-1 div.sk-serial::before {content: \"\";position: absolute;border-left: 1px solid gray;box-sizing: border-box;top: 0;bottom: 0;left: 50%;z-index: 0;}#sk-container-id-1 div.sk-serial {display: flex;flex-direction: column;align-items: center;background-color: white;padding-right: 0.2em;padding-left: 0.2em;position: relative;}#sk-container-id-1 div.sk-item {position: relative;z-index: 1;}#sk-container-id-1 div.sk-parallel {display: flex;align-items: stretch;justify-content: center;background-color: white;position: relative;}#sk-container-id-1 div.sk-item::before, #sk-container-id-1 div.sk-parallel-item::before {content: \"\";position: absolute;border-left: 1px solid gray;box-sizing: border-box;top: 0;bottom: 0;left: 50%;z-index: -1;}#sk-container-id-1 div.sk-parallel-item {display: flex;flex-direction: column;z-index: 1;position: relative;background-color: white;}#sk-container-id-1 div.sk-parallel-item:first-child::after {align-self: flex-end;width: 50%;}#sk-container-id-1 div.sk-parallel-item:last-child::after {align-self: flex-start;width: 50%;}#sk-container-id-1 div.sk-parallel-item:only-child::after {width: 0;}#sk-container-id-1 div.sk-dashed-wrapped {border: 1px dashed gray;margin: 0 0.4em 0.5em 0.4em;box-sizing: border-box;padding-bottom: 0.4em;background-color: white;}#sk-container-id-1 div.sk-label label {font-family: monospace;font-weight: bold;display: inline-block;line-height: 1.2em;}#sk-container-id-1 div.sk-label-container {text-align: center;}#sk-container-id-1 div.sk-container {/* jupyter's `normalize.less` sets `[hidden] { display: none; }` but bootstrap.min.css set `[hidden] { display: none !important; }` so we also need the `!important` here to be able to override the default hidden behavior on the sphinx rendered scikit-learn.org. See: https://github.com/scikit-learn/scikit-learn/issues/21755 */display: inline-block !important;position: relative;}#sk-container-id-1 div.sk-text-repr-fallback {display: none;}</style><div id=\"sk-container-id-1\" class=\"sk-top-container\"><div class=\"sk-text-repr-fallback\"><pre>LinearRegression()</pre><b>In a Jupyter environment, please rerun this cell to show the HTML representation or trust the notebook. <br />On GitHub, the HTML representation is unable to render, please try loading this page with nbviewer.org.</b></div><div class=\"sk-container\" hidden><div class=\"sk-item\"><div class=\"sk-estimator sk-toggleable\"><input class=\"sk-toggleable__control sk-hidden--visually\" id=\"sk-estimator-id-1\" type=\"checkbox\" checked><label for=\"sk-estimator-id-1\" class=\"sk-toggleable__label sk-toggleable__label-arrow\">LinearRegression</label><div class=\"sk-toggleable__content\"><pre>LinearRegression()</pre></div></div></div></div></div>"
      ],
      "text/plain": [
       "LinearRegression()"
      ]
     },
     "execution_count": 26,
     "metadata": {},
     "output_type": "execute_result"
    }
   ],
   "source": [
    "model.fit(x_train,y_train)#LinearRegression is output"
   ]
  },
  {
   "cell_type": "code",
   "execution_count": 15,
   "id": "e90a2a6c",
   "metadata": {},
   "outputs": [
    {
     "data": {
      "text/plain": [
       "array([ 1.43001008e-01,  1.53728337e-02,  3.88635233e-02,  6.34924335e-01,\n",
       "        5.09579067e+00, -4.42576783e+00,  7.88526468e-02, -5.15023995e-02,\n",
       "       -4.04470513e-02,  5.26272007e-04,  2.18825183e-01, -1.47413732e-02])"
      ]
     },
     "execution_count": 15,
     "metadata": {},
     "output_type": "execute_result"
    }
   ],
   "source": [
    "model.coef_#beeta 1,2,3,4,5,6,7,8,9,10,11,12"
   ]
  },
  {
   "cell_type": "code",
   "execution_count": 17,
   "id": "7e03a540",
   "metadata": {},
   "outputs": [
    {
     "data": {
      "text/plain": [
       "32.80070221925997"
      ]
     },
     "execution_count": 17,
     "metadata": {},
     "output_type": "execute_result"
    }
   ],
   "source": [
    "model.intercept_#interception"
   ]
  },
  {
   "cell_type": "code",
   "execution_count": 18,
   "id": "60065b11",
   "metadata": {},
   "outputs": [
    {
     "data": {
      "text/plain": [
       "0.646231088060397"
      ]
     },
     "execution_count": 18,
     "metadata": {},
     "output_type": "execute_result"
    }
   ],
   "source": [
    "model.score(x_train,y_train)#R^2 value"
   ]
  },
  {
   "cell_type": "code",
   "execution_count": 24,
   "id": "b66eb72e",
   "metadata": {},
   "outputs": [],
   "source": [
    "y_predict=model.predict(x_test)#check whethere how it is diviated from actual value"
   ]
  },
  {
   "cell_type": "code",
   "execution_count": 26,
   "id": "076f5874",
   "metadata": {},
   "outputs": [
    {
     "data": {
      "text/plain": [
       "21.59542863139687"
      ]
     },
     "execution_count": 26,
     "metadata": {},
     "output_type": "execute_result"
    }
   ],
   "source": [
    "mean_squared_error(y_predict,y_test)#mean square erorr value"
   ]
  },
  {
   "cell_type": "code",
   "execution_count": 27,
   "id": "a0d676bb",
   "metadata": {},
   "outputs": [
    {
     "data": {
      "text/plain": [
       "4.647088188467793"
      ]
     },
     "execution_count": 27,
     "metadata": {},
     "output_type": "execute_result"
    }
   ],
   "source": [
    "np.sqrt(mean_squared_error(y_predict,y_test))#root of mean square erorr"
   ]
  },
  {
   "cell_type": "code",
   "execution_count": 28,
   "id": "8b47ab64",
   "metadata": {},
   "outputs": [],
   "source": [
    "x1=np.array([0.00632,18.0,2.31,0.538,6.575,65.2,4.0900,1,296,15.3,369.90,4.98]).reshape(1,12)#dimenshion eka 2 wenna oni api model eka train kre column wise ekak nisa\n"
   ]
  },
  {
   "cell_type": "code",
   "execution_count": 29,
   "id": "b4399c4b",
   "metadata": {},
   "outputs": [
    {
     "data": {
      "text/plain": [
       "array([-152.36880499])"
      ]
     },
     "execution_count": 29,
     "metadata": {},
     "output_type": "execute_result"
    }
   ],
   "source": [
    "model.predict(x1)#prediction "
   ]
  },
  {
   "cell_type": "code",
   "execution_count": null,
   "id": "d22e27d1",
   "metadata": {},
   "outputs": [],
   "source": []
  },
  {
   "cell_type": "code",
   "execution_count": null,
   "id": "8bbca127",
   "metadata": {},
   "outputs": [],
   "source": []
  },
  {
   "cell_type": "code",
   "execution_count": null,
   "id": "1890d12b",
   "metadata": {},
   "outputs": [],
   "source": []
  },
  {
   "cell_type": "code",
   "execution_count": null,
   "id": "46920224",
   "metadata": {},
   "outputs": [],
   "source": []
  },
  {
   "cell_type": "code",
   "execution_count": null,
   "id": "1cb2c86c",
   "metadata": {},
   "outputs": [],
   "source": []
  },
  {
   "cell_type": "code",
   "execution_count": null,
   "id": "6f9a50ae",
   "metadata": {},
   "outputs": [],
   "source": []
  }
 ],
 "metadata": {
  "kernelspec": {
   "display_name": "Python 3 (ipykernel)",
   "language": "python",
   "name": "python3"
  },
  "language_info": {
   "codemirror_mode": {
    "name": "ipython",
    "version": 3
   },
   "file_extension": ".py",
   "mimetype": "text/x-python",
   "name": "python",
   "nbconvert_exporter": "python",
   "pygments_lexer": "ipython3",
   "version": "3.10.9"
  }
 },
 "nbformat": 4,
 "nbformat_minor": 5
}
