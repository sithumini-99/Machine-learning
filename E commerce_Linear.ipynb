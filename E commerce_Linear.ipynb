{
 "cells": [
  {
   "cell_type": "code",
   "execution_count": null,
   "id": "14471b57",
   "metadata": {},
   "outputs": [],
   "source": [
    "import pandas as pd\n",
    "import matplotlib.pyplot as plt\n",
    "import seaborn as sns\n"
   ]
  },
  {
   "cell_type": "code",
   "execution_count": null,
   "id": "7921c22b",
   "metadata": {},
   "outputs": [],
   "source": [
    "df=pd.read_csv(\"E:\\\\My machine learning projects\\\\Ecommerce Customers\")"
   ]
  },
  {
   "cell_type": "code",
   "execution_count": null,
   "id": "5b702021",
   "metadata": {},
   "outputs": [],
   "source": [
    "df.head()"
   ]
  },
  {
   "cell_type": "code",
   "execution_count": null,
   "id": "8ba95a05",
   "metadata": {},
   "outputs": [],
   "source": [
    "#give more information about data set"
   ]
  },
  {
   "cell_type": "code",
   "execution_count": null,
   "id": "b1ea0588",
   "metadata": {},
   "outputs": [],
   "source": [
    "df.info()"
   ]
  },
  {
   "cell_type": "code",
   "execution_count": null,
   "id": "6e9724ce",
   "metadata": {},
   "outputs": [],
   "source": [
    "df.describe()"
   ]
  },
  {
   "cell_type": "markdown",
   "id": "13ba0db1",
   "metadata": {},
   "source": [
    "#EDA"
   ]
  },
  {
   "cell_type": "code",
   "execution_count": null,
   "id": "f01c5916",
   "metadata": {},
   "outputs": [],
   "source": [
    "sns.jointplot(x=\"Time on Website\",y=\"Yearly Amount Spent\",data=df,alpha=0.5)\n",
    "#no clear relationship\n"
   ]
  },
  {
   "cell_type": "code",
   "execution_count": null,
   "id": "e9e2a4e7",
   "metadata": {},
   "outputs": [],
   "source": [
    "sns.jointplot(x=\"Time on App\",y=\"Yearly Amount Spent\",data=df,alpha=0.5)"
   ]
  },
  {
   "cell_type": "code",
   "execution_count": null,
   "id": "f2de465c",
   "metadata": {},
   "outputs": [],
   "source": [
    "sns.pairplot(df,kind='scatter',plot_kws={'alpha':0.4})"
   ]
  },
  {
   "cell_type": "code",
   "execution_count": null,
   "id": "9e7dd04e",
   "metadata": {},
   "outputs": [],
   "source": [
    "#length of memebership have some kind of relationship with our target variable"
   ]
  },
  {
   "cell_type": "code",
   "execution_count": null,
   "id": "b5ef6c38",
   "metadata": {
    "scrolled": true
   },
   "outputs": [],
   "source": [
    "sns.lmplot(x='Length of Membership', \n",
    "           y='Yearly Amount Spent',\n",
    "           data=df,\n",
    "          scatter_kws={'alpha':0.3})\n"
   ]
  },
  {
   "cell_type": "code",
   "execution_count": null,
   "id": "693baa14",
   "metadata": {},
   "outputs": [],
   "source": [
    "#data spliting"
   ]
  },
  {
   "cell_type": "code",
   "execution_count": null,
   "id": "235c1ec8",
   "metadata": {},
   "outputs": [],
   "source": [
    "from sklearn.model_selection import train_test_split\n"
   ]
  },
  {
   "cell_type": "code",
   "execution_count": null,
   "id": "b11b5d6e",
   "metadata": {},
   "outputs": [],
   "source": [
    "X = df[['Avg. Session Length','Time on App','Time on Website','Length of Membership']]\n",
    "y = df['Yearly Amount Spent']"
   ]
  },
  {
   "cell_type": "code",
   "execution_count": null,
   "id": "a5beda16",
   "metadata": {},
   "outputs": [],
   "source": [
    "X_train, X_test, y_train, y_test = train_test_split(X, y, test_size=0.3, random_state=42)\n"
   ]
  },
  {
   "cell_type": "code",
   "execution_count": null,
   "id": "d4f50a27",
   "metadata": {},
   "outputs": [],
   "source": [
    "#training the model"
   ]
  },
  {
   "cell_type": "code",
   "execution_count": null,
   "id": "d5aee5a8",
   "metadata": {},
   "outputs": [],
   "source": [
    "from sklearn.linear_model import LinearRegression\n"
   ]
  },
  {
   "cell_type": "code",
   "execution_count": null,
   "id": "daba1215",
   "metadata": {},
   "outputs": [],
   "source": [
    "lm=LinearRegression()"
   ]
  },
  {
   "cell_type": "code",
   "execution_count": null,
   "id": "7a349bda",
   "metadata": {},
   "outputs": [],
   "source": [
    "lm.fit(X_train,y_train)"
   ]
  },
  {
   "cell_type": "code",
   "execution_count": null,
   "id": "1732db7f",
   "metadata": {},
   "outputs": [],
   "source": [
    "lm.coef_"
   ]
  },
  {
   "cell_type": "code",
   "execution_count": null,
   "id": "ad112040",
   "metadata": {},
   "outputs": [],
   "source": [
    "cdf=pd.DataFrame(lm.coef_,X.columns, columns=['Coef'])\n",
    "print(cdf)"
   ]
  },
  {
   "cell_type": "code",
   "execution_count": null,
   "id": "75400fa8",
   "metadata": {},
   "outputs": [],
   "source": [
    "#predication"
   ]
  },
  {
   "cell_type": "code",
   "execution_count": null,
   "id": "7eaae811",
   "metadata": {},
   "outputs": [],
   "source": [
    "predictions=lm.predict(X_test)"
   ]
  },
  {
   "cell_type": "code",
   "execution_count": null,
   "id": "a3935a32",
   "metadata": {},
   "outputs": [],
   "source": [
    "predictions"
   ]
  },
  {
   "cell_type": "code",
   "execution_count": null,
   "id": "63d41bb3",
   "metadata": {
    "scrolled": true
   },
   "outputs": [],
   "source": [
    "sns.scatterplot(x=predictions, y=y_test)\n",
    "\n"
   ]
  },
  {
   "cell_type": "code",
   "execution_count": null,
   "id": "302e90f5",
   "metadata": {},
   "outputs": [],
   "source": [
    "from sklearn.metrics import mean_squared_error,mean_absolute_error\n",
    "import math"
   ]
  },
  {
   "cell_type": "code",
   "execution_count": null,
   "id": "581bb2d0",
   "metadata": {},
   "outputs": [],
   "source": [
    "print(\"Mean absoulte error:\",mean_absolute_error(y_test,predictions))\n",
    "print(\"Mean squred  error:\",mean_squared_error(y_test,predictions))\n",
    "print(\"RMSE:\",math.sqrt(mean_squared_error(y_test,predictions)))"
   ]
  },
  {
   "cell_type": "code",
   "execution_count": null,
   "id": "70a18b09",
   "metadata": {},
   "outputs": [],
   "source": [
    "lm.score(X_train,y_train)"
   ]
  },
  {
   "cell_type": "code",
   "execution_count": null,
   "id": "f78374dc",
   "metadata": {},
   "outputs": [],
   "source": [
    "#residuals"
   ]
  },
  {
   "cell_type": "code",
   "execution_count": null,
   "id": "dfabce7f",
   "metadata": {},
   "outputs": [],
   "source": [
    "residuals=y_test-predictions\n",
    "residuals"
   ]
  },
  {
   "cell_type": "code",
   "execution_count": null,
   "id": "9d172fbc",
   "metadata": {},
   "outputs": [],
   "source": [
    "#checking normality"
   ]
  },
  {
   "cell_type": "code",
   "execution_count": null,
   "id": "10025e6b",
   "metadata": {},
   "outputs": [],
   "source": [
    "sns.displot(residuals, bins=20,kde=True)"
   ]
  },
  {
   "cell_type": "code",
   "execution_count": null,
   "id": "1f71ccfd",
   "metadata": {},
   "outputs": [],
   "source": [
    "#Q-Q plot"
   ]
  },
  {
   "cell_type": "code",
   "execution_count": null,
   "id": "9ec04fbe",
   "metadata": {},
   "outputs": [],
   "source": [
    "import pylab\n",
    "import scipy.stats as stats"
   ]
  },
  {
   "cell_type": "code",
   "execution_count": null,
   "id": "185b595e",
   "metadata": {},
   "outputs": [],
   "source": [
    "stats.probplot(residuals, dist=\"norm\",plot=pylab)\n",
    "pylab.show()"
   ]
  },
  {
   "cell_type": "code",
   "execution_count": null,
   "id": "eabe6f71",
   "metadata": {},
   "outputs": [],
   "source": [
    "#alpha means dark point menas lot of points in on light means only small number of points there "
   ]
  }
 ],
 "metadata": {
  "kernelspec": {
   "display_name": "Python 3 (ipykernel)",
   "language": "python",
   "name": "python3"
  },
  "language_info": {
   "codemirror_mode": {
    "name": "ipython",
    "version": 3
   },
   "file_extension": ".py",
   "mimetype": "text/x-python",
   "name": "python",
   "nbconvert_exporter": "python",
   "pygments_lexer": "ipython3",
   "version": "3.10.9"
  }
 },
 "nbformat": 4,
 "nbformat_minor": 5
}
